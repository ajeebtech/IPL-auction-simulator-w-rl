{
 "cells": [
  {
   "cell_type": "markdown",
   "metadata": {},
   "source": [
    "# RCB'S BEST SEASON WAS 2016, THEIR SQUAD WAS \n",
    "\n",
    "**https://www.espncricinfo.com/series/ipl-2016-968923/royal-challengers-bangalore-squad-969877/series-squads**"
   ]
  },
  {
   "cell_type": "code",
   "execution_count": 21,
   "metadata": {},
   "outputs": [],
   "source": [
    "import json\n",
    "import requests\n",
    "from bs4 import BeautifulSoup\n",
    "from selenium import webdriver\n",
    "from selenium.webdriver.common.by import By\n",
    "from selenium.webdriver.common.keys import Keys\n",
    "from selenium.webdriver.common.action_chains import ActionChains\n",
    "from selenium.webdriver.support.ui import WebDriverWait\n",
    "from selenium.webdriver.support import expected_conditions as EC\n",
    "import time\n",
    "# Example data\n",
    "data = [\n",
    "    {\"role\"},\n",
    "    {\"strike rate\"},\n",
    "    {\"wickets\"},\n",
    "    {\"stadium1 strike rate\"},\n",
    "    {\"stadium1 economy\"},\n",
    "    {\"handed\"},\n",
    "    {\"awards\"},\n",
    "    {\"sixes\"},\n",
    "    {\"economy\"},\n",
    "    {\"best ranking\"},\n",
    "    {\"batting average\"},\n",
    "    {\"bowling average\"},\n",
    "    {\"opener or finisher\"}]"
   ]
  },
  {
   "cell_type": "code",
   "execution_count": null,
   "metadata": {},
   "outputs": [],
   "source": [
    "class Player:\n",
    "    def __init__(self):\n",
    "        self.name = name\n",
    "        self.age = age    #ds-text-compact-xxs ds-font-bold\n",
    "        self.role = role\n"
   ]
  },
  {
   "cell_type": "markdown",
   "metadata": {},
   "source": [
    "finding rosters and cleaning them up"
   ]
  },
  {
   "cell_type": "code",
   "execution_count": 27,
   "metadata": {},
   "outputs": [
    {
     "name": "stdout",
     "output_type": "stream",
     "text": [
      "['27y', 'Rig', 'Rig', '31y', 'Rig', 'Rig', '22y', 'Lef', 'Rig', '18y', 'Rig', 'Leg', '23y', 'Rig', '27y', 'Lef', 'Rig', '31y', 'Rig', 'Rig', '36y', 'Lef', 'Rig', '26y', 'Lef', 'Slo', '30y', 'Rig', 'Rig', '24y', 'Rig', 'Rig', '26y', 'Rig', 'Rig', '34y', 'Rig', 'Rig', '30y', 'Rig', 'Rig', '26y', 'Rig', 'Rig', '27y', 'Rig', 'Rig', '31y', 'Lef', 'Lef', '25y', 'Rig', 'Leg', '22y', 'Rig', 'Leg', '27y', 'Rig', 'Rig', '23y', 'Lef', 'Rig', '32y', 'Rig', 'Rig', '25y', 'Rig', 'Rig', '24y', 'Rig', 'Rig', '25y', 'Rig', 'Lef', '29y', 'Rig', 'Rig', '34y', 'Rig', 'Leg', '23y', 'Rig', 'Rig', '26y', 'Lef', 'Lef']\n",
      "['Virat Kohli', 'AB de Villiers', 'Travis Head', 'Sarfaraz Khan', 'KL Rahul', 'Sachin Baby', 'Stuart Binny', 'Chris Gayle', 'Iqbal Abdulla', 'Kedar Jadhav', 'Mandeep Singh', 'Parvez Rasool', 'Shane Watson', 'David Wiese', 'Varun Aaron', 'Abu Nechim', 'Sreenath Aravind', 'Yuzvendra Chahal', 'Praveen Dubey', 'Chris Jordan', 'Akshay Karnewar', 'Vikramjeet Malik', 'Harshal Patel', 'Kane Richardson', 'Tabraiz Shamsi', 'Vikas Tokas']\n"
     ]
    }
   ],
   "source": [
    "url = 'https://www.espncricinfo.com/series/ipl-2016-968923/royal-challengers-bangalore-squad-969877/series-squads'\n",
    "rqsts = requests.get(url)\n",
    "soup = BeautifulSoup(rqsts.content,'lxml')\n",
    "names = soup.find_all('div', class_ = 'ds-flex ds-flex-row ds-items-center ds-justify-between')\n",
    "names = [name.text.strip() for name in names]\n",
    "ages = soup.find_all('span', class_ = 'ds-text-compact-xxs ds-font-bold')\n",
    "names = [name.replace('(c)', '').replace('†', '') for name in names if \"Withdrawn\" not in name]\n",
    "ages = [age.text.strip() for age in ages]\n",
    "ages = [age[:3] for age in ages]\n",
    "print(ages)\n",
    "print(names)"
   ]
  },
  {
   "cell_type": "code",
   "execution_count": 8,
   "metadata": {},
   "outputs": [],
   "source": [
    "driver = webdriver.Chrome()\n",
    "\n",
    "# Open the webpage\n",
    "driver.get(\"https://stats.espncricinfo.com/ci/engine/stats/index.html#:~:text=Statsguru%20%7C%20Searchable%20Cricket%20Statistics%20database%20%7C%20ESPNcricinfo.com\")\n",
    "# Maximize the browser window\n",
    "driver.maximize_window()\n",
    "search_box = driver.find_element(By.NAME, \"search\")\n",
    "# Enter a search query into the input field\n",
    "search_query = \"Python tutorials\"\n",
    "search_box.send_keys(search_query)\n",
    "search_box.send_keys(Keys.RETURN)\n",
    "link = driver.find_element(By.XPATH, \"//a[starts-with(text(), 'Players and Officials')]\")\n",
    "link.click()\n",
    "link = driver.find_element(By.XPATH, \"//a[text()='Twenty20 matches player']\")\n",
    "time.sleep(5)\n",
    "menu_url = driver.current_url    #this behaves like a main menu for the driver to come back to for finding other statistics using this page\n",
    "\n",
    "driver.quit()"
   ]
  },
  {
   "cell_type": "markdown",
   "metadata": {},
   "source": [
    "writing into a json file"
   ]
  },
  {
   "cell_type": "code",
   "execution_count": 6,
   "metadata": {},
   "outputs": [],
   "source": [
    "# Write to a JSON file\n",
    "with open(\"my_dataset.json\", \"w\") as f:\n",
    "    json.dump(data, f, indent=4)  # `indent=4` makes it human-readable"
   ]
  }
 ],
 "metadata": {
  "kernelspec": {
   "display_name": "Python 3",
   "language": "python",
   "name": "python3"
  },
  "language_info": {
   "codemirror_mode": {
    "name": "ipython",
    "version": 3
   },
   "file_extension": ".py",
   "mimetype": "text/x-python",
   "name": "python",
   "nbconvert_exporter": "python",
   "pygments_lexer": "ipython3",
   "version": "3.13.0"
  }
 },
 "nbformat": 4,
 "nbformat_minor": 2
}
