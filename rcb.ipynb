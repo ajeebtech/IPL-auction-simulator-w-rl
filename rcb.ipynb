{
 "cells": [
  {
   "cell_type": "markdown",
   "metadata": {},
   "source": [
    "# RCB'S BEST SEASON WAS 2016, THEIR SQUAD WAS \n",
    "\n",
    "**https://www.espncricinfo.com/series/ipl-2016-968923/royal-challengers-bangalore-squad-969877/series-squads**"
   ]
  },
  {
   "cell_type": "markdown",
   "metadata": {},
   "source": [
    "home teams for every team:\n",
    "IND: I.S. Bindra Punjab Cricket Association Stadium\n",
    "\n",
    "IND: Sawai Mansingh Stadium, Jaipur\n",
    "\n",
    "IND: Eden Gardens, Kolkata\n",
    "\n",
    "IND: Wankhede Stadium, Mumbai\n",
    "\n",
    "IND: M.Chinnaswamy Stadium, Bengaluru\n",
    "\n",
    "IND: Narendra Modi Stadium, Motera, Ahmedabad\n",
    "\n",
    "IND: Arun Jaitley Stadium, Delhi\n",
    "\n",
    "IND: Rajiv Gandhi International Stadium, Uppal, Hyderabad\n",
    "\n",
    "IND: Bharat Ratna Shri Atal Bihari Vajpayee Ekana Cricket Stadium, Lucknow\n",
    "\n",
    "IND: MA Chidambaram Stadium, Chepauk, Chennai"
   ]
  },
  {
   "cell_type": "markdown",
   "metadata": {},
   "source": [
    "                                                      template"
   ]
  },
  {
   "cell_type": "code",
   "execution_count": 4,
   "metadata": {},
   "outputs": [],
   "source": [
    "import re\n",
    "import json\n",
    "import requests\n",
    "from bs4 import BeautifulSoup\n",
    "from selenium import webdriver\n",
    "from selenium.webdriver.common.by import By\n",
    "from selenium.webdriver.common.keys import Keys\n",
    "from selenium.webdriver.common.action_chains import ActionChains\n",
    "from selenium.webdriver.support.ui import WebDriverWait\n",
    "from selenium.webdriver.support import expected_conditions as EC\n",
    "from selenium.webdriver.chrome.options import Options\n",
    "options = Options()\n",
    "options.headless = True\n",
    "import time"
   ]
  },
  {
   "cell_type": "code",
   "execution_count": 1,
   "metadata": {},
   "outputs": [],
   "source": [
    "data = [\n",
    "    {\n",
    "        #allrounder\n",
    "        \"role\": None,\n",
    "        \"strike rate\": None,\n",
    "        \"wickets\": None,\n",
    "        \"average\": None,\n",
    "        \"awards\": None,\n",
    "        \"sixes\": None,\n",
    "        \"fours\": None,\n",
    "        \"economy\": None,\n",
    "        \"batting average\": None,\n",
    "        \"bowling average\": None,\n",
    "        \"bat_style\": None,\n",
    "        \"bowl_style\": None,\n",
    "        \"importance\": None,\n",
    "    },\n",
    "    {\n",
    "        #bowler\n",
    "        \"role\": None,\n",
    "        \"strike rate\": None,\n",
    "        \"wickets\": None,\n",
    "        \"stadium1 economy\": None,\n",
    "        \"stadium10 economy\": None,\n",
    "        \"handed\": None,\n",
    "        \"awards\": None,\n",
    "        \"economy\": None,\n",
    "        \"bowling average\": None,\n",
    "        \"bat_style\": None,\n",
    "        \"bowl_style\": None,\n",
    "        \"importance\": None,\n",
    "    },\n",
    "    {\n",
    "        #batsman\n",
    "        \"role\": None,\n",
    "        \"strike rate\": None,\n",
    "        \"runs\": None,\n",
    "        \"stadium1 average\": None,\n",
    "        \"stadium10 strike rate\": None,\n",
    "        \"bat_style\": None,\n",
    "        \"bowl_style\": None,\n",
    "        \"awards\": None,\n",
    "        \"sixes\": None,\n",
    "        \"fours\": None,\n",
    "        \"economy\": None,\n",
    "        \"batting average\": None,\n",
    "        \"importance\": None,\n",
    "    }\n",
    "]"
   ]
  },
  {
   "cell_type": "code",
   "execution_count": 6,
   "metadata": {},
   "outputs": [],
   "source": [
    "class Player:\n",
    "    def __init__(self,name,age,role):\n",
    "        self.name = name\n",
    "        self.age = age   \n",
    "        self.role = role\n",
    "squad = {}"
   ]
  },
  {
   "cell_type": "markdown",
   "metadata": {},
   "source": [
    "finding rosters and cleaning them up"
   ]
  },
  {
   "cell_type": "code",
   "execution_count": null,
   "metadata": {},
   "outputs": [],
   "source": [
    "urls = ['https://www.espncricinfo.com/series/ipl-2016-968923/royal-challengers-bangalore-squad-969877/series-squads']\n",
    "for url in urls:\n",
    "    rqsts = requests.get(url)\n",
    "    soup = BeautifulSoup(rqsts.content,'lxml')\n",
    "    names = soup.find_all('div', class_ = 'ds-flex ds-flex-row ds-items-center ds-justify-between')\n",
    "    names = [name.text.strip() for name in names]\n",
    "    names = [name.replace('(c)', '').replace('†', '') for name in names if \"Withdrawn\" not in name]\n",
    "    ages = soup.find_all('span', class_ = 'ds-text-compact-xxs ds-font-bold')\n",
    "    ages = [age.text.strip() for age in ages]\n",
    "    ages = [int(re.search(r'(\\d+)y', age).group(1)) for age in ages if re.search(r'(\\d+)y', age)]\n",
    "    roles = soup.find_all('p',class_ = 'ds-text-tight-s ds-font-regular ds-mb-2 ds-mt-1')\n",
    "    roles = [role.text.strip() for role in roles]\n",
    "    for i in range(len(roles)):\n",
    "        if 'Batter' in roles[i]:\n",
    "            roles[i] = 'Batter'\n",
    "        elif 'Allrounder' in roles[i]:\n",
    "            roles[i] = 'AllRounder'\n",
    "        elif 'Bowler' in roles[i]:\n",
    "            roles[i] = 'Bowler'\n",
    "    removes = len(names) - len(ages)\n",
    "    n = removes\n",
    "    del ages[n:]\n",
    "    del roles[n:]\n",
    "    for name, age, role in zip(names, ages, roles):\n",
    "        squad[name] = Player(name=name,age=age,role=role)"
   ]
  },
  {
   "cell_type": "markdown",
   "metadata": {},
   "source": [
    "making a function that takes stuff from statsguru"
   ]
  },
  {
   "cell_type": "code",
   "execution_count": 3,
   "metadata": {},
   "outputs": [],
   "source": [
    "def stats_taking(player,i):\n",
    "    driver = webdriver.Chrome()\n",
    "    driver.get(\"https://stats.espncricinfo.com/ci/engine/stats/index.html#:~:text=Statsguru%20%7C%20Searchable%20Cricket%20Statistics%20database%20%7C%20ESPNcricinfo.com\")\n",
    "    driver.maximize_window()\n",
    "    search_box = driver.find_element(By.NAME, \"search\")\n",
    "    search_query = player.name\n",
    "    search_box.send_keys(search_query)\n",
    "    search_box.send_keys(Keys.RETURN)\n",
    "    link = driver.find_element(By.XPATH, \"//a[starts-with(text(), 'Players and Officials')]\")\n",
    "    link.click()\n",
    "    link = driver.find_element(By.XPATH, \"//a[text()='Twenty20 matches player']\")\n",
    "    time.sleep(3)\n",
    "    menu_url = driver.current_url    #this behaves like a main menu for the driver to come back to for finding other statistics using this page\n",
    "    player_info = driver.find_element(By.XPATH, \"//p[@style='padding-bottom:10px']\").text\n",
    "    details = player_info.split('\\n')[1]\n",
    "    details = details.replace('Player details: ','')\n",
    "    bat_style = details.split(';')[0]                                            #batting style\n",
    "    bowl_style = details[1]                                                   #bowling style\n",
    "    radio_button = driver.find_element(By.XPATH, \"//input[@type='radio' and @value='cumulative']\")\n",
    "    radio_button.click()\n",
    "    time.sleep(0.1)\n",
    "    radio_button = driver.find_element(By.XPATH, \"//input[@type='radio' and @value='awards_match']\")\n",
    "    radio_button.click()\n",
    "    submit_button = driver.find_element(By.XPATH, \"//input[@type='submit' and @value='Submit query']\")\n",
    "    submit_button.click()\n",
    "    try:\n",
    "        player_of_match_elements = driver.find_elements(By.XPATH, \"//td[text()='player of the match']\")\n",
    "        potm_awards = len(player_of_match_elements)                         #awards\n",
    "        driver.get(menu_url)  \n",
    "    except Exception as e:\n",
    "        pass\n",
    "    radio_button = driver.find_element(By.XPATH, \"//input[@type='radio' and @value='results']\")\n",
    "    radio_button.click()\n",
    "    submit_button = driver.find_element(By.XPATH, \"//input[@type='submit' and @value='Submit query']\")\n",
    "    submit_button.click()\n",
    "    time.sleep(0.1)\n",
    "    try:\n",
    "        wins = driver.find_elements(By.XPATH, \"//td[text()='won']\")\n",
    "        losses = driver.find_elements(By.XPATH, \"//td[text()='lost']\")\n",
    "        importance = len(wins)/len(losses)                                 #importance\n",
    "        driver.get(menu_url)  \n",
    "    except Exception as e:\n",
    "        pass\n",
    "    if player.role == 'AllRounder':\n",
    "        radio_button = driver.find_element(By.XPATH, \"//input[@type='radio' and @value='bowling']\")       \n",
    "        radio_button.click()\n",
    "        submit_button = driver.find_element(By.XPATH, \"//input[@type='submit' and @value='Submit query']\")\n",
    "        submit_button.click()\n",
    "        time.sleep(0.1)\n",
    "        row = driver.find_element(By.XPATH, \"//tr[@class='data1']\")\n",
    "        cells = row.find_elements(By.TAG_NAME, \"td\")\n",
    "        economy = int(cells[9].text)                                  #economy\n",
    "        wickets = int(cells[6].text)                                  #wickets\n",
    "        bowling_average = float(cells[8].text)                       #bowling average\n",
    "        data[i]['wickets'] = wickets\n",
    "        data[i]['bowling average'] = bowling_average\n",
    "        data[i]['economy'] = economy\n",
    "        driver.get(menu_url)\n",
    "        radio_button = driver.find_element(By.XPATH, \"//input[@type='radio' and @value='batting']\")\n",
    "        radio_button.click()\n",
    "        submit_button = driver.find_element(By.XPATH, \"//input[@type='submit' and @value='Submit query']\")\n",
    "        submit_button.click()\n",
    "        time.sleep(3)\n",
    "        table_row = driver.find_element(By.CSS_SELECTOR, \"tr.data1\")\n",
    "        data = table_row.find_elements(By.TAG_NAME, \"td\")\n",
    "        runs = int(data[4].text) \n",
    "        data[i]['runs'] = runs\n",
    "        batting_average = float(data[7].text)\n",
    "        data['batting_average'] = batting_average\n",
    "        strike_rate = float(data[9].text)\n",
    "        data[i]['strike_rate'] = strike_rate\n",
    "        fours = int(data[12].text)\n",
    "        data[i]['fours'] = fours\n",
    "        sixes = int(data[13].text) \n",
    "        data[i]['sixes'] = sixes\n",
    "    elif player.role == 'Bowler':\n",
    "        []\n",
    "        pass\n",
    "    elif player.role == 'Batter':\n",
    "        pass\n",
    "    \n",
    "    driver.quit()"
   ]
  },
  {
   "cell_type": "code",
   "execution_count": null,
   "metadata": {},
   "outputs": [],
   "source": [
    "i = 0\n",
    "for player in list(squad.values()):\n",
    "    stats_taking(player.name,i = i)\n",
    "    i += 1"
   ]
  },
  {
   "cell_type": "markdown",
   "metadata": {},
   "source": [
    "writing into a json file"
   ]
  },
  {
   "cell_type": "code",
   "execution_count": 9,
   "metadata": {},
   "outputs": [],
   "source": [
    "# Write to a JSON file\n",
    "with open(\"my_dataset.json\", \"w\") as f:\n",
    "    json.dump(data, f, indent=4)  # `indent=4` makes it human-readable"
   ]
  }
 ],
 "metadata": {
  "kernelspec": {
   "display_name": "Python 3",
   "language": "python",
   "name": "python3"
  },
  "language_info": {
   "codemirror_mode": {
    "name": "ipython",
    "version": 3
   },
   "file_extension": ".py",
   "mimetype": "text/x-python",
   "name": "python",
   "nbconvert_exporter": "python",
   "pygments_lexer": "ipython3",
   "version": "3.13.0"
  }
 },
 "nbformat": 4,
 "nbformat_minor": 2
}
